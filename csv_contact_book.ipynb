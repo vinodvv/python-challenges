{
  "nbformat": 4,
  "nbformat_minor": 0,
  "metadata": {
    "colab": {
      "provenance": [],
      "authorship_tag": "ABX9TyNT24l4awNems22OnretNDF",
      "include_colab_link": true
    },
    "kernelspec": {
      "name": "python3",
      "display_name": "Python 3"
    },
    "language_info": {
      "name": "python"
    }
  },
  "cells": [
    {
      "cell_type": "markdown",
      "metadata": {
        "id": "view-in-github",
        "colab_type": "text"
      },
      "source": [
        "<a href=\"https://colab.research.google.com/github/vinodvv/python-challenges/blob/master/csv_contact_book.ipynb\" target=\"_parent\"><img src=\"https://colab.research.google.com/assets/colab-badge.svg\" alt=\"Open In Colab\"/></a>"
      ]
    },
    {
      "cell_type": "markdown",
      "source": [
        "# CSV Contact Book"
      ],
      "metadata": {
        "id": "E9P8_OG5xNuH"
      }
    },
    {
      "cell_type": "markdown",
      "source": [
        "## Build a contact book in Python that stores names, phone numbers, and email addresses in a CSV file. This project will teach you how to gather user input, work with CSVs, and display stored data — all useful skills for handling structured information."
      ],
      "metadata": {
        "id": "HIyqsL-3xR5r"
      }
    },
    {
      "cell_type": "markdown",
      "source": [
        "## 📝 Project Task\n",
        "\n",
        "The Program should:\n",
        "\n",
        "* Prompt the user to enter a name, phone, and email.\n",
        "* Save the information to a .csv file (e.g. contacts.csv).\n",
        "* Add a feature to display all saved contacts (formatted nicely in the terminal).\n",
        "\n",
        "This is a great real-world use case of Python’s built-in csv module and a chance to practice building simple utilities that persist data."
      ],
      "metadata": {
        "id": "ALHNhxRlxTCh"
      }
    },
    {
      "cell_type": "markdown",
      "source": [
        "## 📌 Expected Output\n",
        "\n",
        "When you run the program, it should:\n",
        "1. Ask the user to input name, phone, and email.\n",
        "2. Save that data to a CSV file.\n",
        "3. Ask if the user wants to view all saved contacts.\n",
        "4. If yes, it should print all contacts from the CSV."
      ],
      "metadata": {
        "id": "pWQmLLfixXg4"
      }
    },
    {
      "cell_type": "markdown",
      "source": [
        "## Solution"
      ],
      "metadata": {
        "id": "abVdyXuNxdzr"
      }
    },
    {
      "cell_type": "code",
      "source": [
        "import csv\n",
        "import os\n",
        "\n",
        "# Check directory is available\n",
        "os.makedirs(\"files\", exist_ok=True)\n",
        "\n",
        "# File path and headers\n",
        "FILE_PATH = \"files/contacts.csv\"\n",
        "HEADERS = [\"Name\", \"Phone\", \"Email\"]\n",
        "\n",
        "# Ensure file has headers if it doesn't exist\n",
        "if not os.path.exists(FILE_PATH):\n",
        "    with open(FILE_PATH, \"w\", newline=\"\") as file:\n",
        "        writer = csv.writer(file)\n",
        "        writer.writerow(HEADERS)\n",
        "\n",
        "# Prompt user for new contact\n",
        "name = input(\"Enter name: \").strip()\n",
        "phone = input(\"Enter phone: \").strip()\n",
        "email = input(\"Enter email: \").strip()\n",
        "\n",
        "# Save contact\n",
        "with open(FILE_PATH, \"a\", newline=\"\") as file:\n",
        "    writer = csv.writer(file)\n",
        "    writer.writerow([name, phone, email])\n",
        "\n",
        "print(\"Contact saved.\")\n",
        "\n",
        "# Ask if user wants to view all contacts\n",
        "view_contacts = input(\"Do you want to view all contacts? (yes/no): \").strip().lower()\n",
        "if view_contacts in [\"yes\", \"y\"]:\n",
        "    print(\"\\n\")\n",
        "    with open(FILE_PATH, \"r\") as file:\n",
        "        reader = csv.DictReader(file)\n",
        "        for row in reader:\n",
        "            print(f\"Name: {row['Name']}\")\n",
        "            print(f\"Phone: {row['Phone']}\")\n",
        "            print(f\"Email: {row['Email']}\")\n",
        "            print(\"\\n\")"
      ],
      "metadata": {
        "id": "icTr3sQyxbSx"
      },
      "execution_count": null,
      "outputs": []
    }
  ]
}